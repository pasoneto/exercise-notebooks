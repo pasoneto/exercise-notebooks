{
 "cells": [
  {
   "cell_type": "code",
   "execution_count": 149,
   "metadata": {},
   "outputs": [
    {
     "data": {
      "text/plain": [
       "[(2, 9340239),\n",
       " (1, 9),\n",
       " (1, 1),\n",
       " (1, 0),\n",
       " (2, 3),\n",
       " (1, 6),\n",
       " (5, 1),\n",
       " (1, 2),\n",
       " (1, 5),\n",
       " (1, 2),\n",
       " (3, 1)]"
      ]
     },
     "execution_count": 149,
     "metadata": {},
     "output_type": "execute_result"
    }
   ],
   "source": [
    "def igualdade(a, b):\n",
    "    return a == b\n",
    "\n",
    "def c(x):\n",
    "    count = 1\n",
    "    contagem = []\n",
    "    x = x + [None]\n",
    "    for i in range(len(x)-1):\n",
    "        if x[i] == x[i+1]:\n",
    "            count = count + 1\n",
    "        else:\n",
    "            contagem.append(count)\n",
    "            count = 1\n",
    "    return contagem\n",
    "\n",
    "def e(x):\n",
    "    element_list = []\n",
    "    x = x + [None]\n",
    "    for i in range(len(x)-1):\n",
    "        if x[i] == x[i+1]:\n",
    "            element = x[i]\n",
    "        else:\n",
    "            element_list.append(element)\n",
    "            element = x[i+1]\n",
    "    return element_list\n",
    "\n",
    "x = [9340239, 9340239, 9, 1, 0, 3, 3, 6, 1, 1, 1, 1, 1, 2, 5, 2, 1, 1, 1]\n",
    "\n",
    "#Receives two functions, one for counting, one for categorical assignment\n",
    "def compressor(a, b):\n",
    "    return list(zip(a(x), b(x)))\n",
    "\n",
    "compressor(c, e)"
   ]
  },
  {
   "cell_type": "code",
   "execution_count": 104,
   "metadata": {},
   "outputs": [
    {
     "data": {
      "text/plain": [
       "[True, True, True, True, False, True, False]"
      ]
     },
     "execution_count": 104,
     "metadata": {},
     "output_type": "execute_result"
    }
   ],
   "source": [
    "verdades"
   ]
  }
 ],
 "metadata": {
  "kernelspec": {
   "display_name": "Python 3",
   "language": "python",
   "name": "python3"
  },
  "language_info": {
   "codemirror_mode": {
    "name": "ipython",
    "version": 3
   },
   "file_extension": ".py",
   "mimetype": "text/x-python",
   "name": "python",
   "nbconvert_exporter": "python",
   "pygments_lexer": "ipython3",
   "version": "3.7.6"
  }
 },
 "nbformat": 4,
 "nbformat_minor": 4
}
