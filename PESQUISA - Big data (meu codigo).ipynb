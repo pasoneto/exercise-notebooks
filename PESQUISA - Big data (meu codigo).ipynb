{
 "cells": [
  {
   "cell_type": "code",
   "execution_count": 3,
   "metadata": {},
   "outputs": [],
   "source": [
    "import os\n",
    "import json\n",
    "import pandas as pd\n",
    "import math\n",
    "import time\n",
    "from IPython.display import clear_output"
   ]
  },
  {
   "cell_type": "code",
   "execution_count": null,
   "metadata": {},
   "outputs": [
    {
     "name": "stdout",
     "output_type": "stream",
     "text": [
      "pasta 0\n"
     ]
    },
    {
     "name": "stderr",
     "output_type": "stream",
     "text": [
      "c:\\users\\lenovo\\appdata\\local\\programs\\python\\python37-32\\lib\\site-packages\\ipykernel_launcher.py:57: FutureWarning: Sorting because non-concatenation axis is not aligned. A future version\n",
      "of pandas will change to not sort by default.\n",
      "\n",
      "To accept the future behavior, pass 'sort=False'.\n",
      "\n",
      "To retain the current behavior and silence the warning, pass 'sort=True'.\n",
      "\n"
     ]
    },
    {
     "name": "stdout",
     "output_type": "stream",
     "text": [
      "imprimi um, carai\n",
      "pasta 1\n",
      "imprimi um, carai\n",
      "pasta 2\n",
      "imprimi um, carai\n",
      "pasta 3\n"
     ]
    }
   ],
   "source": [
    "#getting a list of folders\n",
    "caminho = 'C:/Users/Lenovo/Desktop/world/Ciência/Projetos de pesquisa/Estudo Computacional/acousticbrainz-mediaeval-train/'\n",
    "pastas = os.listdir('C:/Users/Lenovo/Desktop/world/Ciência/Projetos de pesquisa/Estudo Computacional/acousticbrainz-mediaeval-train/')\n",
    "folders = []\n",
    "for i in pastas:\n",
    "    folders.append(os.path.join(caminho, i))\n",
    "\n",
    "   \n",
    "        \n",
    "        \n",
    "for f in range(len(folders)):\n",
    "    lista_data_frames = []\n",
    "    print(f'pasta {f}')\n",
    "    for i in os.listdir(folders[f]):\n",
    "        with open(os.path.join(folders[f], i)) as g:\n",
    "            item = g.read()\n",
    "            item = pd.DataFrame(json.loads(item))\n",
    "            item_cru = item #STORING ITEM TO GET OTHER VARIABLES LATER\n",
    "            item = item['metadata'][18] # GETS THE VARIABLE OF INTEREST\n",
    "            if type(item) != float: #SOMETIMES THIS VARIABLE COMES EMPTY. SO SKIP TO NEXT IN THIS CASE\n",
    "                if 'tracknumber' in item:\n",
    "                    item = pd.DataFrame.from_dict(item, orient ='index').iloc[:, 0]\n",
    "                    item = pd.DataFrame(item).reindex()\n",
    "                    item = item.transpose()\n",
    "                     \n",
    "                    #Fetching rhythm\n",
    "                    \n",
    "                    feature = ['bpm', 'danceability']\n",
    "                    \n",
    "                    for j in range(len(feature)):\n",
    "                        vname = f'{feature[j]}'\n",
    "                        item[vname] = item_cru['rhythm'].loc[feature[j]]\n",
    "                    \n",
    "                    #Fetching low-level\n",
    "                    \n",
    "                    feature = ['barkbands_spread','melbands_spread','hfc','barkbands_kurtosis','spectral_energyband_middle_low','melbands_crest','spectral_kurtosis','spectral_rms','zerocrossingrate','silence_rate_60dB','erbbands_kurtosis','spectral_strongpeak','spectral_energy','spectral_rolloff','spectral_centroid','pitch_salience','spectral_energyband_middle_high','melbands_skewness','spectral_spread','dissonance','spectral_skewness','spectral_flux','erbbands_flatness_db','spectral_energyband_high','spectral_entropy','silence_rate_20dB','melbands_flatness_db']\n",
    "                    estatisticas = ['dmean2', 'median', 'min', 'dvar2', 'dvar', 'dmean', 'max', 'var', 'mean'] \n",
    "                    for j in feature:\n",
    "                        for k in estatisticas:\n",
    "                            vname = f'{j}_{k}'\n",
    "                            item[vname] = item_cru['lowlevel'][j][k]\n",
    "                    \n",
    "                    #fetching tonal\n",
    "                    \n",
    "                    features = ['chords_number_rate', 'key_scale', 'key_key', 'chords_changes_rate', 'key_strength']\n",
    "                    for i in features:\n",
    "                        item[i] = item_cru['tonal'][i]\n",
    "                    \n",
    "                    #fetching tonal single values\n",
    "                    features = ['average_loudness', 'dynamic_complexity'] \n",
    "                    for i in features:\n",
    "                        item[i] = item_cru['lowlevel'][i]\n",
    "                    \n",
    "                    lista_data_frames.append(item)\n",
    "                    \n",
    "                    \n",
    "    lista_data_frames = pd.concat(lista_data_frames)\n",
    "         \n",
    "    #Setting up variables of interest\n",
    "#     variaveis_interesse = ['album', 'tracknumber', 'bpm', 'danceability', 'average_loudness', 'dynamic_complexity']\n",
    "#     tipo = ['barkbands_spread','melbands_spread','hfc','barkbands_kurtosis','spectral_energyband_middle_low','melbands_crest','spectral_kurtosis','spectral_rms','zerocrossingrate','silence_rate_60dB','erbbands_kurtosis','spectral_strongpeak','spectral_energy','spectral_rolloff','spectral_centroid','pitch_salience','spectral_energyband_middle_high','melbands_skewness','spectral_spread','dissonance','spectral_skewness','spectral_flux','erbbands_flatness_db','spectral_energyband_high','spectral_entropy','silence_rate_20dB','melbands_flatness_db']\n",
    "#     estatistica = ['dmean2', 'median', 'min', 'dvar2', 'dvar', 'dmean', 'max', 'var', 'mean']\n",
    "#     for i in tipo:\n",
    "#         for j in estatistica:\n",
    "#             variaveis_interesse.append(i+j)\n",
    "\n",
    "    \n",
    "    \n",
    "    \n",
    "#     lista_data_frames = lista_data_frames[variaveis_interesse]\n",
    "    lista_data_frames.to_csv(f'C:/Users/Lenovo/Desktop/world/Ciência/Projetos de pesquisa/Estudo Computacional/tratados/final_{f}.csv', index = False)\n",
    "    print('imprimi um, carai')"
   ]
  },
  {
   "cell_type": "code",
   "execution_count": null,
   "metadata": {
    "scrolled": true
   },
   "outputs": [],
   "source": [
    "#AREA DE TESTES\n",
    "pd.set_option('max_rows', 100)\n",
    "pd.set_option('max_columns', 217)\n",
    "teste = pd.DataFrame({'oi' : [1],\n",
    "            'tchau' : [4],\n",
    "            'alora' : [7]})\n",
    "item_cru"
   ]
  },
  {
   "cell_type": "code",
   "execution_count": null,
   "metadata": {},
   "outputs": [],
   "source": []
  },
  {
   "cell_type": "code",
   "execution_count": null,
   "metadata": {},
   "outputs": [],
   "source": []
  },
  {
   "cell_type": "code",
   "execution_count": null,
   "metadata": {},
   "outputs": [],
   "source": []
  },
  {
   "cell_type": "code",
   "execution_count": null,
   "metadata": {},
   "outputs": [],
   "source": []
  },
  {
   "cell_type": "code",
   "execution_count": null,
   "metadata": {},
   "outputs": [],
   "source": []
  },
  {
   "cell_type": "code",
   "execution_count": null,
   "metadata": {},
   "outputs": [],
   "source": []
  },
  {
   "cell_type": "code",
   "execution_count": null,
   "metadata": {},
   "outputs": [],
   "source": []
  }
 ],
 "metadata": {
  "kernelspec": {
   "display_name": "Python 3",
   "language": "python",
   "name": "python3"
  },
  "language_info": {
   "codemirror_mode": {
    "name": "ipython",
    "version": 3
   },
   "file_extension": ".py",
   "mimetype": "text/x-python",
   "name": "python",
   "nbconvert_exporter": "python",
   "pygments_lexer": "ipython3",
   "version": "3.7.6"
  }
 },
 "nbformat": 4,
 "nbformat_minor": 2
}
