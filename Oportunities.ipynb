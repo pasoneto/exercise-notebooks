{
 "cells": [
  {
   "cell_type": "code",
   "execution_count": 5,
   "metadata": {},
   "outputs": [],
   "source": [
    "from datetime import datetime\n",
    "\n",
    "class Oportunity:\n",
    "    def __init__(self, University, Supervisor, Focus, Requirements, How, When, Url, Obs):\n",
    "        \n",
    "        self.university = University\n",
    "        self.supervisor = Supervisor\n",
    "        self.focus = Focus\n",
    "        self.requirements = Requirements\n",
    "        self.how = How\n",
    "        self.when = datetime.strptime(When, \"%d/%m/%Y\")\n",
    "        self.countdown = self.when - datetime.today()\n",
    "        self.url = Url\n",
    "        self.obs = Obs\n",
    "\n",
    "ghent = Oportunity(\"GHENT UNIVERSITY\", \"BART MOENS\", \"obtaining a better understanding of the behaviour, cognition, and emotion of users (musicians and listeners) engaged in such XR music concert experiences\", [\"Applicants should hold an academic Master’s degree or equivalent (at the latest on October 31, 2020), preferably related to musicology, (experimental) psychology, or/and computer science.\", \"Knowledge of music, and experience with music production or performance\", \"Knowledge on programming (e.g., Python, C#, Unity), technological tools (such as audio recording, motion caption, EEG, VR) and data processing\", \"Experience with empirical approaches\", \"Excellent didactical and communicative skills\", \"Ability to show initiative, to work independently, and to tackle problems\", \"Flexible, accurate, critical, reflective attitude, eager to learn, and team player\", \"Candidates are expected to have excellent written and oral English\"], \"E-Mail to Bart Moens (bart.moens@ugent.be) as pdf or word documents and should contain a CV (and overview of your study results), your application/motivation letter, and copy of the obtained degree(s), with the subject line mentioning “MusiXR PhD application”\", \"1/10/2020\", None , None)\n",
    "ari = Oportunity(\"AUSTRIAN ACADEMY OF SCIENCES\", \"Robert Baumgartner\", \"PhD postision on computational modeling for predictive auditory processing\", [\"Master’s degree or diploma with excellent scores in one of the following disciplines: computer sciences\", \"engineering, or related fields\", \"Excellent statistical and programming skills (e.g., Matlab, Python, R, etc.) are essential\", \"Previous experience with computational modelling and Bayesian inference is much desired\", \"General interdisciplinary experience, previous experience in working with physiological data (M/EEG, eyetracking), and strong interest in biology, psychology, and neuroscience are a plus\", \"Profound knowledge of written and oral English is required\", \"Flexibility, ability to work independently as well as in a scientific team are important\"], \"Interested candidates should send a CV, copies of relevant certificates (MSc, diploma), names and full contact details of two referees, and a brief statement describing motivations, personal qualifications, and research interests by e-mail to robert.baumgartner@oeaw.ac.at (mentioning Job ID: ISF082DOC220).\", \"1/9/2020\", \"https://www.kfs.oeaw.ac.at/index.php?option=com_content&view=article&id=1181:lang-en-yirg-dynamates-dynamic-auditory-predictions-in-human-an-non-human-primates-lang-lang-de-zk-dynamates-dynamiken-der-auditiven-praediktion-in-menschlichen-und-anderen-primaten-lang&catid=103&Itemid=768&lang=en\", \"Other project-related PhD student positions on human EEG (mailto: ulrich.pomper@univie.ac.at) and monkey behaviour (mailto: michelle.spierings@univie.ac.at) are or will soon be available at the University of Vienna.\")\n",
    "sonification = Oportunity(\"New Castle University\", \"Dr. Paul Vickers\", \"Sonification - the use of non-speech audio to communicate data and data relations\", [\"Good working knowledge of ethnography and/or the theorisation of practice-as-research in areas such as improvisation, live electronic performance, electroacoustic composition, sound art -list is not exhaustive\", \"Strong working knowledge of methods and techniques suitable for research in the area of contemporary musical/sonic art aesthetics\", \"Familiarity with (or demonstrable ability to become familiar with) methods and techniques in data sonification and auditory display.\", \"Demonstrable ability to contribute towards designing, organising and running of experiments, interviews, focus groups and related participatory activities with research partners.\", \"Ability to work in cross disciplinary settings\", \"Excellent interpersonal and communication skills.\", \"Proven ability to organise and prioritise tasks and successful working to deadlines.\", \"Conducting qualititative ethnographic/autoethnographic research, or conducting practice-as-research/artistic research, in contemporary music/sound art.\", \"Track record of dissemination of research via appropriate journals, conferences, and/or professional-level performance or exhibition venues.\"], \"access following url: https://jobs.ncl.ac.uk/job/Newcastle-Research-Associate/616004901/, cv, letter of motivation, references, etc...\", \"20/9/2020\", [\"https://paulvickers.github.io/radical/\", \"https://paulvickers.github.io/\"], None)\n",
    "max_plank = Oportunity(\"Max Planck Institute for Empirical Aesthetics (Department of Music)\", \"Elke B. Lange & Lauren K. Fink\", \"The project investigates relations between auditory features, attention, eye movements and pupil dynamics, and listeners’ aesthetic evaluation of music.\", [\"MSc, MPhil, MA, or Diploma, preferably in Cognitive Science, Systematic Musicology, Psychology, Neuroscience, Computer Science, Engineering, Physics, or a related field\", \"Excellent command of English, both written and spoken\", \"Well organized working method, good communication skills, good team player\", \"Proficiency in computer programming languages, preferably Python, MATLAB, R, and/or Julia \", \"Knowledge of, or familiarity with, music theory, or a strong personal interest in it\", \"Interest in the neural underpinnings of eye movements and/or motivation to learn\", \"Beneficial but not required: Background knowledge of computational modeling, advanced multivariate statistical methods, and/or machine learning approaches to data analysis, as well as hands-on experience in conducting experimental research\"], [\"your CV\", \"copies of relevant degrees and/or certificates\", \"a short summary of your Master’s thesis (one page)\", \"names and contact information of two references who have previously agreed to be contacted; and a Statement of Purpose that describes your academic preparation, interests, motivation for pursuing a doctoral degree, and your career goals\", \"Please send these materials all together in a single PDF file, to: job@ae.mpg.de\"],  \"1/10/2020\", \"https://www.aesthetics.mpg.de/en/career/jobs/researcher-phd-candidate.html\", None)\n",
    "\n",
    "oportunidades = [ghent, ari, sonification, max_plank]"
   ]
  },
  {
   "cell_type": "code",
   "execution_count": 4,
   "metadata": {},
   "outputs": [
    {
     "data": {
      "text/plain": [
       "[(30, 'GHENT UNIVERSITY'),\n",
       " (0, 'AUSTRIAN ACADEMY OF SCIENCES'),\n",
       " (19, 'New Castle University'),\n",
       " (30, 'Max Planck Institute for Empirical Aesthetics (Department of Music)')]"
      ]
     },
     "execution_count": 4,
     "metadata": {},
     "output_type": "execute_result"
    }
   ],
   "source": [
    "#Prazos\n",
    "[(i.countdown.days, i.university) for i in oportunidades]"
   ]
  },
  {
   "cell_type": "code",
   "execution_count": 20,
   "metadata": {},
   "outputs": [
    {
     "data": {
      "text/plain": [
       "'Interested candidates should send a CV, copies of relevant certificates (MSc, diploma), names and full contact details of two referees, and a brief statement describing motivations, personal qualifications, and research interests by e-mail to robert.baumgartner@oeaw.ac.at (mentioning Job ID: ISF082DOC220).'"
      ]
     },
     "execution_count": 20,
     "metadata": {},
     "output_type": "execute_result"
    }
   ],
   "source": [
    "ari.how"
   ]
  },
  {
   "cell_type": "code",
   "execution_count": null,
   "metadata": {},
   "outputs": [],
   "source": [
    "\"Dear Dr. Robert Baumgartner,\n",
    "\"My name is Pedro Neto and I am applying for the PhD postision on computational modeling for predictive auditory processing (Job ID: ISF082DOC220).\n",
    "\"This e-mail contains my CV, copy of relevant certificates, name and full contact details of two referees, and a cover letter describing my personal qualifications, \n",
    "\"research interests and motivations. \n",
    "\n",
    "\"**I am sending two versions of my academic transcripts, one that is up to date but in Portuguese, and one that is not up to date but in English. Official translations from my university are only released twice a year, and they will be released by the end of september, only."
   ]
  }
 ],
 "metadata": {
  "kernelspec": {
   "display_name": "Python 3",
   "language": "python",
   "name": "python3"
  },
  "language_info": {
   "codemirror_mode": {
    "name": "ipython",
    "version": 3
   },
   "file_extension": ".py",
   "mimetype": "text/x-python",
   "name": "python",
   "nbconvert_exporter": "python",
   "pygments_lexer": "ipython3",
   "version": "3.7.6"
  }
 },
 "nbformat": 4,
 "nbformat_minor": 4
}
