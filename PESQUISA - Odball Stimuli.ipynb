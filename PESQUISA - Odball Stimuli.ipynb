{
 "cells": [
  {
   "cell_type": "code",
   "execution_count": 1,
   "metadata": {},
   "outputs": [],
   "source": [
    "from music21 import *\n",
    "import random\n",
    "import numpy as np\n",
    "from itertools import chain"
   ]
  },
  {
   "cell_type": "code",
   "execution_count": 2,
   "metadata": {},
   "outputs": [],
   "source": [
    "#Target\n",
    "f = chord.Chord([\"F4\",\"A4\"])\n",
    "a = chord.Chord([\"A4\",\"C5\"])"
   ]
  },
  {
   "cell_type": "code",
   "execution_count": 3,
   "metadata": {},
   "outputs": [],
   "source": [
    "##--------Acordes Tonais--------##\n",
    "umt = chord.Chord([\"G3\",\"D5\"])\n",
    "doist = chord.Chord([\"A3\", \"F5\"])\n",
    "trest = chord.Chord([\"C4\", \"E5\"])\n",
    "\n",
    "#--------Atordes Atonais--------#\n",
    "um = chord.Chord([\"B-3\",\"G-5\"])\n",
    "dois = chord.Chord([\"C4\", \"F5\"])\n",
    "tres = chord.Chord([\"C#4\", \"A5\"])\n",
    "\n",
    "\n",
    "#Sequencias standard\n",
    "a1 = stream.Stream()\n",
    "a1.append([umt, doist, trest, f])\n",
    "a2 = stream.Stream()\n",
    "a2.append([umt, trest, doist, f])\n",
    "a3 = stream.Stream()\n",
    "a3.append([doist, umt, trest, f])\n",
    "a4 = stream.Stream()\n",
    "a4.append([doist, trest, umt, f])\n",
    "a5 = stream.Stream()\n",
    "a5.append([trest, umt, doist, f])\n",
    "a6 = stream.Stream()\n",
    "a6.append([trest, doist, umt, f])\n",
    "\n",
    "\n",
    "#Sequencias deviant\n",
    "b1 = stream.Stream()\n",
    "b1.append([umt, doist, trest, a])\n",
    "b2 = stream.Stream()\n",
    "b2.append([umt, trest, doist, a])\n",
    "b3 = stream.Stream()\n",
    "b3.append([doist, umt, trest, a])\n",
    "b4 = stream.Stream()\n",
    "b4.append([doist, trest, umt, a])\n",
    "b5 = stream.Stream()\n",
    "b5.append([trest, umt, doist, a])\n",
    "b6 = stream.Stream()\n",
    "b6.append([trest, doist, umt, a])\n",
    "\n",
    "#Sequencias\n",
    "seq_at_f = stream.Stream()\n",
    "seq_at_f.append([um, dois, tres, f])\n",
    "\n",
    "#Lista com todas as sequências tonais\n",
    "\n",
    "sequencias_standard = [a1, a2, a3, a4, a5, a6]\n",
    "sequencias_deviant = [b1, b2, b3, b4, b5, b6]"
   ]
  },
  {
   "cell_type": "code",
   "execution_count": 4,
   "metadata": {},
   "outputs": [],
   "source": [
    "#--------TRANSPOSING TONAL--------#\n",
    "\n",
    "#Transposing sequences. Cada lista abaixo contem todos os trials de uma mesma tonalidade\n",
    "#com todas as ordens diferentes.\n",
    "#standard_Bb = [i.transpose(-14) for i in sequencias_standard]\n",
    "#standard_F = [i.transpose(-7) for i in sequencias_standard]\n",
    "standard_C = [i.transpose(0) for i in sequencias_standard]\n",
    "#standard_G = [i.transpose(7) for i in sequencias_standard]\n",
    "#standard_D = [i.transpose(2) for i in sequencias_standard]\n",
    "\n",
    "#Transposing sequences. Cada lista abaixo contem todos os trials de uma mesma tonalidade\n",
    "#com todas as ordens diferentes.\n",
    "#deviant_Bb = [i.transpose(-14) for i in sequencias_deviant]\n",
    "#deviant_F = [i.transpose(-7) for i in sequencias_deviant]\n",
    "deviant_C = [i.transpose(0) for i in sequencias_deviant]\n",
    "#deviant_G = [i.transpose(7) for i in sequencias_deviant]\n",
    "#deviant_D = [i.transpose(2) for i in sequencias_deviant]\n",
    "\n",
    "\n",
    "#Overall_standard_list. 5 Transposições. Cada item da lista contem 6 itens da mesma tonalidade, porem com ordens diferentes.\n",
    "#standards = [standard_Bb, standard_F, standard_C, standard_G, standard_D]\n",
    "#deviants = [deviant_Bb, deviant_F, deviant_C, deviant_G, deviant_D]\n",
    "\n",
    "\n",
    "#------------Jogando tudo para MuseScore------------#\n",
    "for i in standard_C:\n",
    "    i.show('xml')\n",
    "#Devo salvar tudo em wav e nomear como standard_(tonalidade)_(sequencia - 1:6 -) \n",
    "#FEITO"
   ]
  },
  {
   "cell_type": "code",
   "execution_count": 5,
   "metadata": {},
   "outputs": [],
   "source": [
    "#Sequencias standard\n",
    "c1 = stream.Stream()\n",
    "c1.append([um, dois, tres, f])\n",
    "c2 = stream.Stream()\n",
    "c2.append([um, tres, dois, f])\n",
    "c3 = stream.Stream()\n",
    "c3.append([dois, um, tres, f])\n",
    "c4 = stream.Stream()\n",
    "c4.append([dois, tres, um, f])\n",
    "c5 = stream.Stream()\n",
    "c5.append([tres, um, dois, f])\n",
    "c6 = stream.Stream()\n",
    "c6.append([tres, dois, um, f])\n",
    "\n",
    "#Sequencias deviant\n",
    "d1 = stream.Stream()\n",
    "d1.append([um, dois, tres, a])\n",
    "d2 = stream.Stream()\n",
    "d2.append([um, tres, dois, a])\n",
    "d3 = stream.Stream()\n",
    "d3.append([dois, um, tres, a])\n",
    "d4 = stream.Stream()\n",
    "d4.append([dois, tres, um, a])\n",
    "d5 = stream.Stream()\n",
    "d5.append([tres, um, dois, a])\n",
    "d6 = stream.Stream()\n",
    "d6.append([tres, dois, um, a])\n"
   ]
  },
  {
   "cell_type": "code",
   "execution_count": 8,
   "metadata": {},
   "outputs": [],
   "source": [
    "#--------TRANSPOSING TONAL--------#\n",
    "#Lista com todas as sequências tonais\n",
    "\n",
    "at_sequencias_standard = [c1, c2, c3, c4, c5, c6]\n",
    "at_sequencias_deviant = [d1, d2, d3, d4, d5, d6]\n",
    "\n",
    "\n",
    "#Transposing sequences. Cada lista abaixo contem todos os trials de uma mesma tonalidade\n",
    "#com todas as ordens diferentes.\n",
    "#at_standard_Bb = [i.transpose(-14) for i in at_sequencias_standard]\n",
    "#at_standard_F = [i.transpose(-7) for i in at_sequencias_standard]\n",
    "at_standard_C = [i.transpose(0) for i in at_sequencias_standard]\n",
    "#at_standard_G = [i.transpose(7) for i in at_sequencias_standard]\n",
    "#at_standard_D = [i.transpose(2) for i in at_sequencias_standard]\n",
    "\n",
    "\n",
    "#Transposing sequences. Cada lista abaixo contem todos os trials de uma mesma tonalidade\n",
    "#com todas as ordens diferentes.\n",
    "#at_deviant_Bb = [i.transpose(-14) for i in at_sequencias_deviant]\n",
    "#at_deviant_F = [i.transpose(-7) for i in at_sequencias_deviant]\n",
    "at_deviant_C = [i.transpose(0) for i in at_sequencias_deviant]\n",
    "#at_deviant_G = [i.transpose(7) for i in at_sequencias_deviant]\n",
    "#at_deviant_D = [i.transpose(2) for i in at_sequencias_deviant]\n",
    "\n",
    "\n",
    "#Overall_standard_list. 5 Transposições. Cada item da lista contem 6 itens da mesma tonalidade, porem com ordens diferentes.\n",
    "#at_standards = [at_standard_Bb, at_standard_F, at_standard_C, at_standard_G, at_standard_D]\n",
    "#at_deviants = [at_deviant_Bb, at_deviant_F, at_deviant_C, at_deviant_G, at_deviant_D]\n",
    "\n",
    "#------------Jogando tudo para MuseScore------------#\n",
    "\n",
    "oi = stream.Stream()\n",
    "\n",
    "for i in standard_C:\n",
    "    oi.append(i)\n",
    "oi.show('xml')\n",
    "\n",
    "#Devo salvar tudo em wav e nomear como standard_(tonalidade)_(sequencia - 1:6 -) \n",
    "#FEITO"
   ]
  },
  {
   "cell_type": "code",
   "execution_count": null,
   "metadata": {},
   "outputs": [],
   "source": []
  },
  {
   "cell_type": "code",
   "execution_count": null,
   "metadata": {},
   "outputs": [],
   "source": []
  },
  {
   "cell_type": "code",
   "execution_count": null,
   "metadata": {},
   "outputs": [],
   "source": []
  },
  {
   "cell_type": "code",
   "execution_count": null,
   "metadata": {},
   "outputs": [],
   "source": []
  },
  {
   "cell_type": "code",
   "execution_count": null,
   "metadata": {},
   "outputs": [],
   "source": []
  },
  {
   "cell_type": "code",
   "execution_count": null,
   "metadata": {},
   "outputs": [],
   "source": [
    "#--------------- MANIPULANDO TONALIDADES --------------------#\n",
    "\n",
    "#Função para transpor a lista toda para todos os tons\n",
    "def transp(lst):\n",
    "    result = [[i.transpose(y) for y in range(1,13)] for i in lst]\n",
    "    return result\n",
    "  \n",
    "#Função para nomear cada um dos audios\n",
    "#for nome, sec_lst in zip(['sec_c', 'sec_g', 'sec_f', 'sec_a'], oi):\n",
    "#    for note, n in zip(sec_lst, range(1,13)):\n",
    "#        note.write('midi', f'{nome}_{n}.midi')\n"
   ]
  },
  {
   "cell_type": "code",
   "execution_count": null,
   "metadata": {},
   "outputs": [],
   "source": [
    "def randomize(iterable, bufsize=3):\n",
    "    random.seed(np.random.randint(87398739))\n",
    "    buf = list()\n",
    "    for x in iterable:\n",
    "        if len(buf) == bufsize:\n",
    "            random.shuffle(buf)\n",
    "            while buf: yield buf.pop()\n",
    "        buf.append(x)\n",
    "    random.shuffle(buf)\n",
    "    while buf: yield buf.pop()\n",
    "        \n",
    "def stream_from_list(l):\n",
    "    s = stream.Stream()\n",
    "    for x in l:\n",
    "        s.append(x)\n",
    "    return s\n",
    "\n",
    "def randomize_stream(input_stream):\n",
    "    chords = randomize(input_stream)\n",
    "    return stream_from_list(chords)    \n"
   ]
  },
  {
   "cell_type": "code",
   "execution_count": null,
   "metadata": {},
   "outputs": [],
   "source": [
    "randomize_stream(tonal).show('musicxml')\n",
    "randomize_stream(atonal).show('musicxml')"
   ]
  },
  {
   "cell_type": "code",
   "execution_count": null,
   "metadata": {},
   "outputs": [],
   "source": []
  },
  {
   "cell_type": "code",
   "execution_count": null,
   "metadata": {},
   "outputs": [],
   "source": [
    "atonal.analyze(\"key.krumhanslschmuckler\").correlationCoefficient\n"
   ]
  },
  {
   "cell_type": "code",
   "execution_count": null,
   "metadata": {},
   "outputs": [],
   "source": [
    "tonal.analyze(\"key.krumhanslschmuckler\")"
   ]
  },
  {
   "cell_type": "code",
   "execution_count": null,
   "metadata": {
    "scrolled": true
   },
   "outputs": [],
   "source": []
  },
  {
   "cell_type": "code",
   "execution_count": null,
   "metadata": {},
   "outputs": [],
   "source": []
  },
  {
   "cell_type": "code",
   "execution_count": null,
   "metadata": {},
   "outputs": [],
   "source": []
  },
  {
   "cell_type": "code",
   "execution_count": null,
   "metadata": {},
   "outputs": [],
   "source": [
    "list(zip('abc', range(1,4)))[0]"
   ]
  },
  {
   "cell_type": "code",
   "execution_count": null,
   "metadata": {},
   "outputs": [],
   "source": [
    "for t in zip('abc', range(1,4)):\n",
    "    print(t[1])"
   ]
  },
  {
   "cell_type": "code",
   "execution_count": null,
   "metadata": {},
   "outputs": [],
   "source": [
    "list(zip(['sec_c', 'sec_g', 'sec_f', 'sec_a'], oi))"
   ]
  },
  {
   "cell_type": "code",
   "execution_count": null,
   "metadata": {},
   "outputs": [],
   "source": [
    "list(zip(oi[1], range(1,13)))"
   ]
  },
  {
   "cell_type": "code",
   "execution_count": null,
   "metadata": {},
   "outputs": [],
   "source": []
  }
 ],
 "metadata": {
  "kernelspec": {
   "display_name": "Python 3",
   "language": "python",
   "name": "python3"
  },
  "language_info": {
   "codemirror_mode": {
    "name": "ipython",
    "version": 3
   },
   "file_extension": ".py",
   "mimetype": "text/x-python",
   "name": "python",
   "nbconvert_exporter": "python",
   "pygments_lexer": "ipython3",
   "version": "3.7.3"
  }
 },
 "nbformat": 4,
 "nbformat_minor": 2
}
