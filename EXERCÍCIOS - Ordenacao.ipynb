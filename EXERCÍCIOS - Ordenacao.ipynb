{
 "cells": [
  {
   "cell_type": "code",
   "execution_count": 10,
   "metadata": {},
   "outputs": [
    {
     "name": "stdout",
     "output_type": "stream",
     "text": [
      "[]\n",
      "[4]\n",
      "[4, 5]\n",
      "[4, 5, 6]\n",
      "[4, 5, 6, 23]\n",
      "[4, 5, 6, 23, 23]\n",
      "[4, 5, 6, 23, 23, 43]\n",
      "[4, 5, 6, 23, 23, 43, 56]\n",
      "[4, 5, 6, 23, 23, 43, 56, 75]\n",
      "[4, 5, 6, 23, 23, 43, 56, 75, 79]\n"
     ]
    }
   ],
   "source": [
    "import numpy as np\n",
    "a = [4, 23, 6, 5, 43, 23, 75, 79, 56]\n",
    "def menor(lista):\n",
    "    ordenado = []\n",
    "    oi = a[0]\n",
    "    for i in lista:\n",
    "        if i < oi:\n",
    "            oi = i\n",
    "    return oi\n",
    "\n",
    "def ord(lista):\n",
    "    ordenado = []\n",
    "    lista = lista\n",
    "    for i in range(len(lista)):\n",
    "        print(ordenado)\n",
    "        oi = menor(lista)    \n",
    "        ordenado.append(oi)\n",
    "        lista.remove(oi)\n",
    "    print(ordenado)\n",
    "menor(a)\n",
    "ord(a)"
   ]
  },
  {
   "cell_type": "code",
   "execution_count": 114,
   "metadata": {},
   "outputs": [
    {
     "name": "stdout",
     "output_type": "stream",
     "text": [
      "[1, 2, 4, 4, 4, 5, 5, 6, 6, 7, 8, 8, 23, 23, 43, 56, 75, 79]\n"
     ]
    }
   ],
   "source": [
    "ord(a)"
   ]
  }
 ],
 "metadata": {
  "kernelspec": {
   "display_name": "Python 3",
   "language": "python",
   "name": "python3"
  },
  "language_info": {
   "codemirror_mode": {
    "name": "ipython",
    "version": 3
   },
   "file_extension": ".py",
   "mimetype": "text/x-python",
   "name": "python",
   "nbconvert_exporter": "python",
   "pygments_lexer": "ipython3",
   "version": "3.7.3"
  }
 },
 "nbformat": 4,
 "nbformat_minor": 2
}
