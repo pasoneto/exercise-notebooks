{
 "cells": [
  {
   "cell_type": "markdown",
   "metadata": {},
   "source": [
    "# Exercise \n",
    "\n",
    "Make a function that encrypts a given input with these steps:\n",
    "Input: \"apple\"\n",
    "\n",
    "- Step 1: Reverse the input: \"elppa\"\n",
    "        \n",
    "- Step 2: Replace all vowels using the following chart:\n",
    "a => 0, e => 1, i => 2, o => 2, u => 3\n",
    "\n",
    "- Step 3: Add \"aca\" to the end of the word: \"1lpp0aca\"\n",
    "Output: \"1lpp0aca\"\n",
    "\n",
    "### Examples\n",
    "encrypt(\"banana\") ➞ \"0n0n0baca\"\n",
    "encrypt(\"karaca\") ➞ \"0c0r0kaca\"\n",
    "encrypt(\"burak\") ➞ \"k0r3baca\"\n",
    "encrypt(\"alpaca\") ➞ \"0c0pl0aca\"\n",
    "Notes\n",
    "\n",
    "All inputs are strings, no uppercases and all output must be strings."
   ]
  },
  {
   "cell_type": "code",
   "execution_count": 27,
   "metadata": {},
   "outputs": [
    {
     "data": {
      "text/plain": [
       "['c', '2', 'p', 'l', '0', 'aca']"
      ]
     },
     "execution_count": 27,
     "metadata": {},
     "output_type": "execute_result"
    }
   ],
   "source": [
    "def encrypt(c: str):\n",
    "    v = ['a', 'e', 'i', 'o', 'u']; n = [0, 1, 2, 2, 3]\n",
    "    \n",
    "    c = [str(n[i]) if c[i] in v else c[i] for i in range(len(c))][::-1] + ['aca']\n",
    "    return c\n",
    "encrypt('alpac')"
   ]
  },
  {
   "cell_type": "code",
   "execution_count": null,
   "metadata": {},
   "outputs": [],
   "source": []
  }
 ],
 "metadata": {
  "kernelspec": {
   "display_name": "Python 3",
   "language": "python",
   "name": "python3"
  },
  "language_info": {
   "codemirror_mode": {
    "name": "ipython",
    "version": 3
   },
   "file_extension": ".py",
   "mimetype": "text/x-python",
   "name": "python",
   "nbconvert_exporter": "python",
   "pygments_lexer": "ipython3",
   "version": "3.6.9"
  }
 },
 "nbformat": 4,
 "nbformat_minor": 4
}
