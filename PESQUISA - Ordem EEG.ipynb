{
 "cells": [
  {
   "cell_type": "code",
   "execution_count": 4,
   "metadata": {},
   "outputs": [],
   "source": [
    "import random"
   ]
  },
  {
   "cell_type": "code",
   "execution_count": 810,
   "metadata": {
    "scrolled": true
   },
   "outputs": [],
   "source": [
    "deviant = [\"deviant1\", \"deviant2\"]*5\n",
    "standard = ['standard1', 'standard2', 'standard3', 'standard4', 'standard5', 'standard6', 'standard7', 'standard8']*5\n",
    "#sample cases\n",
    "def samp(lista, maximo):\n",
    "    if maximo != \"deviant\":\n",
    "        maximo = round(len(lista)/4) or 1\n",
    "    else: maximo = 1\n",
    "    #if the list contains only one case, we get this case\n",
    "    if len(lista) == 1:\n",
    "        return random.sample(lista, 1)\n",
    "    #if the list contains nothing, we get nothing\n",
    "    if len(lista) == 0:\n",
    "        return None\n",
    "    else:\n",
    "    #If it doesnt contain 1 or 0, we get a random of random size from the list\n",
    "        return random.sample(lista, random.randint(1, maximo))\n",
    "\n",
    "#delete cases\n",
    "def del_smp(smp, lista):\n",
    "    #Here I ask it to return the list in case it is empty\n",
    "    if len(lista) == 0:\n",
    "        return lista\n",
    "    #otherwise, I remove items which have already been sampled \n",
    "    else:\n",
    "        for i in smp:\n",
    "            lista.remove(i)\n",
    "    return lista\n",
    "\n",
    "#Function receives array and groups it into smaller arrays of random sizes, ranging from 1 to its length.\n",
    "def junt(lista, maximo):\n",
    "    final = []\n",
    "    final_final = []\n",
    "    for i in range(100):\n",
    "        smp = samp(lista, maximo)\n",
    "        final.append(smp)\n",
    "        lista = del_smp(smp, lista)\n",
    "    for k in final:\n",
    "        if k != None:\n",
    "            final_final.append(k)\n",
    "    return final_final\n",
    "\n",
    "\n",
    "#function receives 2 liists and concatenates them interchengeably. Constraint: The array of the first \n",
    "#list should be larger than the array of the second list\n",
    "def concat(list1, list2):\n",
    "    result = []\n",
    "    for i in range(len(list2)):\n",
    "        if i == len(list2)-1:\n",
    "            result.append(list1[i:])\n",
    "            return result\n",
    "        result.append(list1[i])\n",
    "        result.append(list2[i])\n",
    "    return result\n",
    "\n",
    "standard = junt(standard, \"standard\")\n",
    "deviant = junt(deviant, \"deviant\")\n",
    "\n"
   ]
  },
  {
   "cell_type": "code",
   "execution_count": 811,
   "metadata": {
    "scrolled": true
   },
   "outputs": [
    {
     "data": {
      "text/plain": [
       "[['standard4'],\n",
       " ['deviant2'],\n",
       " ['standard3',\n",
       "  'standard4',\n",
       "  'standard5',\n",
       "  'standard7',\n",
       "  'standard1',\n",
       "  'standard3'],\n",
       " ['deviant1'],\n",
       " ['standard6', 'standard3', 'standard2'],\n",
       " ['deviant2'],\n",
       " ['standard7',\n",
       "  'standard2',\n",
       "  'standard8',\n",
       "  'standard8',\n",
       "  'standard1',\n",
       "  'standard7',\n",
       "  'standard6'],\n",
       " ['deviant1'],\n",
       " ['standard5'],\n",
       " ['deviant1'],\n",
       " ['standard8', 'standard1'],\n",
       " ['deviant2'],\n",
       " ['standard4', 'standard3', 'standard5', 'standard1', 'standard4'],\n",
       " ['deviant2'],\n",
       " ['standard6', 'standard6', 'standard7', 'standard8'],\n",
       " ['deviant1'],\n",
       " ['standard8', 'standard7'],\n",
       " ['deviant1'],\n",
       " [['standard2'],\n",
       "  ['standard5', 'standard5'],\n",
       "  ['standard4', 'standard2'],\n",
       "  ['standard1'],\n",
       "  ['standard6'],\n",
       "  ['standard3'],\n",
       "  ['standard2']]]"
      ]
     },
     "execution_count": 811,
     "metadata": {},
     "output_type": "execute_result"
    }
   ],
   "source": [
    "concat(standard, deviant)"
   ]
  },
  {
   "cell_type": "code",
   "execution_count": 465,
   "metadata": {},
   "outputs": [
    {
     "data": {
      "text/plain": [
       "[['standard3',\n",
       "  'standard1',\n",
       "  'standard7',\n",
       "  'standard7',\n",
       "  'standard6',\n",
       "  'standard2',\n",
       "  'standard5',\n",
       "  'standard2',\n",
       "  'standard6',\n",
       "  'standard1',\n",
       "  'standard4',\n",
       "  'standard8'],\n",
       " ['deviant1'],\n",
       " ['standard6',\n",
       "  'standard4',\n",
       "  'standard7',\n",
       "  'standard8',\n",
       "  'standard4',\n",
       "  'standard4',\n",
       "  'standard5',\n",
       "  'standard1',\n",
       "  'standard1'],\n",
       " ['deviant2'],\n",
       " ['standard5'],\n",
       " ['deviant1'],\n",
       " ['standard5'],\n",
       " ['deviant2'],\n",
       " ['standard8', 'standard2', 'standard1', 'standard8', 'standard8'],\n",
       " ['deviant1'],\n",
       " ['standard2', 'standard6', 'standard4', 'standard3'],\n",
       " ['deviant2'],\n",
       " ['standard7', 'standard6'],\n",
       " ['deviant2'],\n",
       " ['standard7', 'standard5'],\n",
       " ['deviant1'],\n",
       " ['standard3'],\n",
       " ['deviant2'],\n",
       " [['standard3'], ['standard3'], ['standard2']]]"
      ]
     },
     "execution_count": 465,
     "metadata": {},
     "output_type": "execute_result"
    }
   ],
   "source": [
    "concat(standard, deviant)"
   ]
  },
  {
   "cell_type": "code",
   "execution_count": 462,
   "metadata": {},
   "outputs": [
    {
     "data": {
      "text/plain": [
       "[[[[[[[[['deviant2']]]]]]]],\n",
       " [[[[[[[['deviant1']]]]]]]],\n",
       " [[[[[[[['deviant1']]]]]]]],\n",
       " [[[[[[[['deviant1']]]]]]]],\n",
       " [[[[[[[['deviant1']]]]]]]],\n",
       " [[[[[[[['deviant1']]]]]]]],\n",
       " [[[[[[[['deviant2']]]]]]]],\n",
       " [[[[[[[['deviant2']]]]]]]],\n",
       " [[[[[[[['deviant2']]]]]]]],\n",
       " [[[[[[[['deviant2']]]]]]]]]"
      ]
     },
     "execution_count": 462,
     "metadata": {},
     "output_type": "execute_result"
    }
   ],
   "source": []
  },
  {
   "cell_type": "code",
   "execution_count": null,
   "metadata": {},
   "outputs": [],
   "source": []
  },
  {
   "cell_type": "code",
   "execution_count": null,
   "metadata": {},
   "outputs": [],
   "source": []
  },
  {
   "cell_type": "code",
   "execution_count": null,
   "metadata": {},
   "outputs": [],
   "source": []
  }
 ],
 "metadata": {
  "kernelspec": {
   "display_name": "Python 3",
   "language": "python",
   "name": "python3"
  },
  "language_info": {
   "codemirror_mode": {
    "name": "ipython",
    "version": 3
   },
   "file_extension": ".py",
   "mimetype": "text/x-python",
   "name": "python",
   "nbconvert_exporter": "python",
   "pygments_lexer": "ipython3",
   "version": "3.7.3"
  }
 },
 "nbformat": 4,
 "nbformat_minor": 2
}
