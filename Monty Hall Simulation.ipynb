{
 "cells": [
  {
   "cell_type": "markdown",
   "metadata": {},
   "source": [
    "# Mondy Hall simulator\n",
    "\n",
    "This is a simulation of the famous [**Monty Hall** problem](https://en.wikipedia.org/wiki/Monty_Hall_problem). Writting out the code helped me have a better understanding of the problem, and it also helped me understand why it is **always** best to choose again.\n",
    "\n",
    "Check out the code, run it and see for yourself. The only parameter that you have to give is \"simu\", which is short for **how many simulations you want to run make until you are certain?** \n"
   ]
  },
  {
   "cell_type": "code",
   "execution_count": 8,
   "metadata": {},
   "outputs": [
    {
     "data": {
      "text/html": [
       "<ol>\n",
       "\t<li>'changed = 67.24% right'</li>\n",
       "\t<li>'kept =33.39% right'</li>\n",
       "</ol>\n"
      ],
      "text/latex": [
       "\\begin{enumerate}\n",
       "\\item 'changed = 67.24\\% right'\n",
       "\\item 'kept =33.39\\% right'\n",
       "\\end{enumerate}\n"
      ],
      "text/markdown": [
       "1. 'changed = 67.24% right'\n",
       "2. 'kept =33.39% right'\n",
       "\n",
       "\n"
      ],
      "text/plain": [
       "[[1]]\n",
       "[1] \"changed = 67.24% right\"\n",
       "\n",
       "[[2]]\n",
       "[1] \"kept =33.39% right\"\n"
      ]
     },
     "metadata": {},
     "output_type": "display_data"
    }
   ],
   "source": [
    "#Monty Hall problem\n",
    "goat_simulator = function(repick){ doors = c('a', 'b', 'c')\n",
    "    prize = sample(doors, 1); pick = sample(doors, 1)\n",
    "    show  = sample(doors[(doors != pick) & (doors!= prize)], 1)\n",
    "    if(repick    == TRUE) \n",
    "        { pick   = doors[(doors != pick) & (doors!= show)] } \n",
    "    return (pick == prize) }\n",
    "\n",
    "#many runs\n",
    "comparison = function(simu){\n",
    "    change = c(); stay = c()\n",
    "    for(i in 1:simu){ \n",
    "        change[[i]] = goat_simulator(TRUE)\n",
    "        stay[[i]]   = goat_simulator(FALSE)\n",
    "    }\n",
    "    change = rapportools::percent(change == TRUE)\n",
    "    stay = rapportools::percent(stay == TRUE)\n",
    "    return(list(paste(\"changed = \", change, \"%\",\" right\", sep = ''), \n",
    "                paste(\"kept =\", stay, \"%\",\" right\", sep = '')))\n",
    "}\n",
    "comparison(10000)"
   ]
  },
  {
   "cell_type": "markdown",
   "metadata": {},
   "source": [
    "Out of 10 thousand runs, you get ~63% right if you chance your initial choice. You only get ~33% right if you do not."
   ]
  }
 ],
 "metadata": {
  "kernelspec": {
   "display_name": "R",
   "language": "R",
   "name": "ir"
  },
  "language_info": {
   "codemirror_mode": "r",
   "file_extension": ".r",
   "mimetype": "text/x-r-source",
   "name": "R",
   "pygments_lexer": "r",
   "version": "3.4.4"
  }
 },
 "nbformat": 4,
 "nbformat_minor": 4
}
