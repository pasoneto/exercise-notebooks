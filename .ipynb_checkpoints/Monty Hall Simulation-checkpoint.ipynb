{
 "cells": [
  {
   "cell_type": "code",
   "execution_count": 327,
   "metadata": {},
   "outputs": [
    {
     "data": {
      "text/html": [
       "<ol>\n",
       "\t<li>'changed = 65.81%'</li>\n",
       "\t<li>'kept = 32.74%'</li>\n",
       "</ol>\n"
      ],
      "text/latex": [
       "\\begin{enumerate}\n",
       "\\item 'changed = 65.81\\%'\n",
       "\\item 'kept = 32.74\\%'\n",
       "\\end{enumerate}\n"
      ],
      "text/markdown": [
       "1. 'changed = 65.81%'\n",
       "2. 'kept = 32.74%'\n",
       "\n",
       "\n"
      ],
      "text/plain": [
       "[[1]]\n",
       "[1] \"changed = 65.81%\"\n",
       "\n",
       "[[2]]\n",
       "[1] \"kept = 32.74%\"\n"
      ]
     },
     "metadata": {},
     "output_type": "display_data"
    }
   ],
   "source": [
    "#Monty Hall problem\n",
    "goat_simulator = function(repick){ doors = c('a', 'b', 'c')\n",
    "    prize = sample(doors, 1); pick = sample(doors, 1)\n",
    "    show  = sample(doors[(doors != pick) & (doors!= prize)], 1)\n",
    "    if(repick    == TRUE) \n",
    "        { pick   = doors[(doors != pick) & (doors!= show)] } \n",
    "    return (pick == prize) }\n",
    "\n",
    "#many runs\n",
    "comparison = function(simu){\n",
    "    change = c(); stay = c()\n",
    "    for(i in 1:simu){ \n",
    "        change[[i]] = goat_simulator(TRUE)\n",
    "        stay[[i]]   = goat_simulator(FALSE)\n",
    "    }\n",
    "    change = rapportools::percent(change == TRUE)\n",
    "    stay = rapportools::percent(stay == TRUE)\n",
    "    return(list(paste(\"changed = \", change, \"%\", sep = ''), \n",
    "                paste(\"kept = \", stay, \"%\", sep = '')))\n",
    "}\n",
    "comparison(10000)"
   ]
  },
  {
   "cell_type": "code",
   "execution_count": 116,
   "metadata": {},
   "outputs": [
    {
     "data": {
      "text/html": [
       "<style>\n",
       ".list-inline {list-style: none; margin:0; padding: 0}\n",
       ".list-inline>li {display: inline-block}\n",
       ".list-inline>li:not(:last-child)::after {content: \"\\00b7\"; padding: 0 .5ex}\n",
       "</style>\n",
       "<ol class=list-inline><li>'b'</li><li>'c'</li></ol>\n"
      ],
      "text/latex": [
       "\\begin{enumerate*}\n",
       "\\item 'b'\n",
       "\\item 'c'\n",
       "\\end{enumerate*}\n"
      ],
      "text/markdown": [
       "1. 'b'\n",
       "2. 'c'\n",
       "\n",
       "\n"
      ],
      "text/plain": [
       "[1] \"b\" \"c\""
      ]
     },
     "metadata": {},
     "output_type": "display_data"
    }
   ],
   "source": []
  },
  {
   "cell_type": "code",
   "execution_count": 73,
   "metadata": {},
   "outputs": [
    {
     "data": {
      "text/html": [
       "<style>\n",
       ".list-inline {list-style: none; margin:0; padding: 0}\n",
       ".list-inline>li {display: inline-block}\n",
       ".list-inline>li:not(:last-child)::after {content: \"\\00b7\"; padding: 0 .5ex}\n",
       "</style>\n",
       "<ol class=list-inline><li>'a'</li><li>'b'</li></ol>\n"
      ],
      "text/latex": [
       "\\begin{enumerate*}\n",
       "\\item 'a'\n",
       "\\item 'b'\n",
       "\\end{enumerate*}\n"
      ],
      "text/markdown": [
       "1. 'a'\n",
       "2. 'b'\n",
       "\n",
       "\n"
      ],
      "text/plain": [
       "[1] \"a\" \"b\""
      ]
     },
     "metadata": {},
     "output_type": "display_data"
    }
   ],
   "source": [
    "a"
   ]
  },
  {
   "cell_type": "code",
   "execution_count": null,
   "metadata": {},
   "outputs": [],
   "source": []
  }
 ],
 "metadata": {
  "kernelspec": {
   "display_name": "R",
   "language": "R",
   "name": "ir"
  },
  "language_info": {
   "codemirror_mode": "r",
   "file_extension": ".r",
   "mimetype": "text/x-r-source",
   "name": "R",
   "pygments_lexer": "r",
   "version": "3.4.4"
  }
 },
 "nbformat": 4,
 "nbformat_minor": 4
}
