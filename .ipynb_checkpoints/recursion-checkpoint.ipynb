{
 "cells": [
  {
   "cell_type": "code",
   "execution_count": 58,
   "metadata": {},
   "outputs": [
    {
     "data": {
      "text/plain": [
       "(101, (102, (103, (104, 105))))"
      ]
     },
     "execution_count": 58,
     "metadata": {},
     "output_type": "execute_result"
    }
   ],
   "source": [
    "#Cumulative summ\n",
    "def cum_sum(it):\n",
    "    \n",
    "    if len(it) == 1:\n",
    "        \n",
    "        return it[0]\n",
    "    \n",
    "    else:\n",
    "        \n",
    "        return (it[0]) + ffor(it[1:])\n",
    "    \n",
    "#For\n",
    "def ffor(it):\n",
    "    \n",
    "    if len(it) == 1:\n",
    "        return it[0]\n",
    "    else:\n",
    "        return it[0], ffor(it[1:])\n",
    "\n",
    "#Map\n",
    "def mmap(it, f):\n",
    "    if len(it) == 1:\n",
    "        return f(it[0])\n",
    "    else:\n",
    "        return f(it[0]), mmap(it[1:], f)\n",
    "    \n",
    "\n",
    "it = [1, 2, 3, 4, 5]\n",
    "   \n",
    "#cum_sum([1, 2, 3, 4, 5, ])\n",
    "#ffor([1, 2, 3, 4, 5])\n",
    "#mmap(it, lambda y : y + 100)"
   ]
  },
  {
   "cell_type": "code",
   "execution_count": null,
   "metadata": {},
   "outputs": [],
   "source": []
  }
 ],
 "metadata": {
  "kernelspec": {
   "display_name": "Python 3",
   "language": "python",
   "name": "python3"
  },
  "language_info": {
   "codemirror_mode": {
    "name": "ipython",
    "version": 3
   },
   "file_extension": ".py",
   "mimetype": "text/x-python",
   "name": "python",
   "nbconvert_exporter": "python",
   "pygments_lexer": "ipython3",
   "version": "3.7.6"
  }
 },
 "nbformat": 4,
 "nbformat_minor": 4
}
