{
 "cells": [
  {
   "cell_type": "code",
   "execution_count": 13,
   "metadata": {},
   "outputs": [],
   "source": [
    "import numpy as np\n",
    "from scipy import stats\n",
    "import scipy"
   ]
  },
  {
   "cell_type": "code",
   "execution_count": 74,
   "metadata": {
    "scrolled": true
   },
   "outputs": [
    {
     "name": "stdout",
     "output_type": "stream",
     "text": [
      "indice aleatorio é: 3\n",
      "#----------------TENTATIVAS-----------------#\n",
      "Target era maior. roda dnv, fdp!\n",
      "lista nova agora é, (4, 5, 6, 7)\n",
      "indice aleatorio é: 1\n",
      "#----------------TENTATIVAS-----------------#\n",
      "#-----------------ACABOU--------------------#\n"
     ]
    },
    {
     "data": {
      "text/plain": [
       "1"
      ]
     },
     "execution_count": 74,
     "metadata": {},
     "output_type": "execute_result"
    }
   ],
   "source": [
    "lista = 1, 2, 3, 4, 5, 6, 7\n",
    "target = 5\n",
    "def busca_recursiva(lista, target):\n",
    "    aleatorio = np.random.randint(0, len(lista))\n",
    "    print('indice aleatorio é:', aleatorio)\n",
    "    print('#----------------TENTATIVAS-----------------#')\n",
    "    if target == lista[aleatorio]:\n",
    "        print('#-----------------ACABOU--------------------#')\n",
    "        return lista.index(lista[aleatorio])\n",
    "    if target > lista[aleatorio]:\n",
    "        print('Target era maior. roda dnv, fdp!')\n",
    "        lista = lista[aleatorio:]\n",
    "        print('lista nova agora é,', lista)\n",
    "        return busca_recursiva(lista, target)\n",
    "    if target < lista[aleatorio]:\n",
    "        print('Target era menor. Roda dnv, fdp!')\n",
    "        lista = lista[:aleatorio]\n",
    "        print('nova lista agora é:',lista)\n",
    "        return busca_recursiva(lista, target)\n",
    "busca_recursiva(lista, target)"
   ]
  },
  {
   "cell_type": "code",
   "execution_count": 70,
   "metadata": {},
   "outputs": [
    {
     "data": {
      "text/plain": [
       "5.38"
      ]
     },
     "execution_count": 70,
     "metadata": {},
     "output_type": "execute_result"
    }
   ],
   "source": [
    "def simulacao(quantas):\n",
    "    resultados = []\n",
    "    for i in range(quantas):\n",
    "        controle = np.random.randint(1, 100, 1000)\n",
    "        experimental = np.random.randint(1, 100, 1000)\n",
    "        hip = scipy.stats.ttest_ind(controle, experimental).pvalue\n",
    "        resultados.append(hip)\n",
    "    return resultados\n",
    "\n",
    "def maior(lista):\n",
    "    for i in simulacoes_positivas:\n",
    "        return i < 0.05\n",
    "\n",
    "simulacoes_positivas = [simulacao(100)]\n",
    "        \n",
    "def result_sim(quantas):\n",
    "    simulacoes_positivas = simulacao(100)\n",
    "    fim = []\n",
    "    porcento = 0\n",
    "    for i in simulacoes_positivas:\n",
    "        if i < 0.05:\n",
    "           fim.append(i)\n",
    "    porcento = len(fim)/len(simulacoes_positivas)*100\n",
    "    return porcento\n",
    "result_sim(100)\n",
    "\n",
    "def varias_sim(quantos):\n",
    "    finalzao = []\n",
    "    for k in range(quantos):\n",
    "        oi = result_sim(100)\n",
    "        finalzao.append(oi)\n",
    "    return np.mean(finalzao)\n",
    "        \n",
    "ola = varias_sim(100)\n",
    "ola"
   ]
  },
  {
   "cell_type": "code",
   "execution_count": null,
   "metadata": {},
   "outputs": [],
   "source": []
  }
 ],
 "metadata": {
  "kernelspec": {
   "display_name": "Python 3",
   "language": "python",
   "name": "python3"
  },
  "language_info": {
   "codemirror_mode": {
    "name": "ipython",
    "version": 3
   },
   "file_extension": ".py",
   "mimetype": "text/x-python",
   "name": "python",
   "nbconvert_exporter": "python",
   "pygments_lexer": "ipython3",
   "version": "3.7.3"
  }
 },
 "nbformat": 4,
 "nbformat_minor": 2
}
