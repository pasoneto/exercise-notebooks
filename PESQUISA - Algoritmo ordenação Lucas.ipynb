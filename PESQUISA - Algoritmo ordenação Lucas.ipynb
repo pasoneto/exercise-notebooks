{
 "cells": [
  {
   "cell_type": "code",
   "execution_count": 1,
   "metadata": {},
   "outputs": [],
   "source": [
    "import random\n",
    "ex = list('AABBCCXXX')\n",
    "random.shuffle(ex)\n",
    "\n",
    "def invalid_position(l, i, p):\n",
    "    left  =  i != 0 and p(l[i - 1])\n",
    "    right =  i != len(l) - 1 and p(l[i + 1])\n",
    "    return left or right\n",
    "\n",
    "def swap(l, i, j):\n",
    "    a, b = l[i], l[j]\n",
    "    l[i] = b\n",
    "    l[j] = a\n",
    "\n",
    "def swapable_position(l, i, p):\n",
    "    left  = i == 0 or not p(l[i - 1])\n",
    "    right = i == len(l) - 1 or not p(l[i + 1])\n",
    "    return all([left, right, not p(l[i])])\n",
    "\n",
    "def next_swapable_pos(l, x):\n",
    "    return next((y for y in range(len(l)) if swapable_position(l, y, x)))\n",
    "\n",
    "def doit(l, p):\n",
    "    index = list(range(len(l)))\n",
    "    invalid_x_positions = [i for i in index if p(l[i]) and invalid_position(l, i, p)]\n",
    "    for i in invalid_x_positions:\n",
    "        swap(l, next_swapable_pos(l, p), i)\n",
    "    return l"
   ]
  }
 ],
 "metadata": {
  "kernelspec": {
   "display_name": "Python 3",
   "language": "python",
   "name": "python3"
  },
  "language_info": {
   "codemirror_mode": {
    "name": "ipython",
    "version": 3
   },
   "file_extension": ".py",
   "mimetype": "text/x-python",
   "name": "python",
   "nbconvert_exporter": "python",
   "pygments_lexer": "ipython3",
   "version": "3.7.3"
  }
 },
 "nbformat": 4,
 "nbformat_minor": 2
}
