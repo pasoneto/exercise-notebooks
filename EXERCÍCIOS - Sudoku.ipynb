{
 "cells": [
  {
   "cell_type": "code",
   "execution_count": 25,
   "metadata": {},
   "outputs": [],
   "source": [
    "#---------------------SUDOKU DOS MESTRES----------------------#"
   ]
  },
  {
   "cell_type": "code",
   "execution_count": 27,
   "metadata": {},
   "outputs": [],
   "source": [
    "sudoku = [[0, 0, 1, 0, 0, 0, 0, 0, 0],\n",
    "          [0, 0, 0, 0, 0, 0, 0, 0, 0],\n",
    "          [0, 0, 0, 0, 0, 0, 0, 0, 0],\n",
    "          [0, 0, 0, 0, 0, 0, 0, 0, 0],\n",
    "          [0, 0, 0, 0, 0, 0, 0, 0, 0],\n",
    "          [0, 0, 0, 0, 0, 0, 0, 0, 0],\n",
    "          [0, 0, 0, 0, 0, 0, 0, 0, 0],\n",
    "          [0, 0, 0, 0, 0, 0, 0, 0, 0],\n",
    "          [0, 0, 0, 0, 0, 0, 0, 0, 0]]"
   ]
  },
  {
   "cell_type": "code",
   "execution_count": 37,
   "metadata": {},
   "outputs": [
    {
     "name": "stdout",
     "output_type": "stream",
     "text": [
      "-----------------------\n",
      "0 0 1  | 0 0 0  | 0 0 0\n",
      "0 0 0  | 0 0 0  | 0 0 0\n",
      "0 0 0  | 0 0 0  | 0 0 0\n",
      "-----------------------\n",
      "0 0 0  | 0 0 0  | 0 0 0\n",
      "0 0 0  | 0 0 0  | 0 0 0\n",
      "0 0 0  | 0 0 0  | 0 0 0\n",
      "-----------------------\n",
      "0 0 0  | 0 0 0  | 0 0 0\n",
      "0 0 0  | 0 0 0  | 0 0 0\n",
      "0 0 0  | 0 0 0  | 0 0 0\n"
     ]
    }
   ],
   "source": [
    "def vendo(board):\n",
    "    for i in range(len(board)):\n",
    "        if i % 3 == 0:\n",
    "            print(\"-----------------------\")\n",
    "        for j in range(len(board[0])):\n",
    "            if j % 3 == 0 and j != 0:\n",
    "                print(' | ', end=\"\")\n",
    "            if j == 8:\n",
    "                print(board[i][j])\n",
    "            else:\n",
    "                print(str(board[i][j]) + \" \", end= \"\")\n",
    "\n",
    "vendo(sudoku)\n"
   ]
  },
  {
   "cell_type": "code",
   "execution_count": null,
   "metadata": {},
   "outputs": [],
   "source": []
  }
 ],
 "metadata": {
  "kernelspec": {
   "display_name": "Python 3",
   "language": "python",
   "name": "python3"
  },
  "language_info": {
   "codemirror_mode": {
    "name": "ipython",
    "version": 3
   },
   "file_extension": ".py",
   "mimetype": "text/x-python",
   "name": "python",
   "nbconvert_exporter": "python",
   "pygments_lexer": "ipython3",
   "version": "3.7.3"
  }
 },
 "nbformat": 4,
 "nbformat_minor": 2
}
