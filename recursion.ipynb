{
 "cells": [
  {
   "cell_type": "code",
   "execution_count": 67,
   "metadata": {},
   "outputs": [
    {
     "data": {
      "text/plain": [
       "[1, [2, [3, [4, [5, []]]]]]"
      ]
     },
     "execution_count": 67,
     "metadata": {},
     "output_type": "execute_result"
    }
   ],
   "source": [
    "#Cumulative summ\n",
    "def cum_sum(it):\n",
    "    if len(it) == 1:\n",
    "        return it[0]\n",
    "    else:\n",
    "        return (it[0]) + ffor(it[1:])\n",
    "    \n",
    "#For\n",
    "def ffor(it):\n",
    "    if len(it) == 0:\n",
    "        return []\n",
    "    return [it[0],  ffor(it[1:])]\n",
    "\n",
    "#Map\n",
    "def mmap(it, f):\n",
    "    if len(it) == 1:\n",
    "        return f(it[0])\n",
    "    else:\n",
    "        return f(it[0]), mmap(it[1:], f)\n",
    "    \n",
    "\n",
    "it = [1, 2, 3, 4, 5]\n",
    "   \n",
    "#cum_sum([1, 2, 3, 4, 5, ])\n",
    "ffor(it)\n",
    "#mmap(it, lambda y : y + 100)"
   ]
  },
  {
   "cell_type": "code",
   "execution_count": 62,
   "metadata": {},
   "outputs": [
    {
     "name": "stdout",
     "output_type": "stream",
     "text": [
      "1\n",
      "2\n",
      "3\n",
      "4\n",
      "5\n"
     ]
    },
    {
     "data": {
      "text/plain": [
       "[None, None, None, None, None]"
      ]
     },
     "execution_count": 62,
     "metadata": {},
     "output_type": "execute_result"
    }
   ],
   "source": [
    "a = [1, 2, 3, 4, 5]\n",
    "\n",
    "list(map(print, a))"
   ]
  }
 ],
 "metadata": {
  "kernelspec": {
   "display_name": "Python 3",
   "language": "python",
   "name": "python3"
  },
  "language_info": {
   "codemirror_mode": {
    "name": "ipython",
    "version": 3
   },
   "file_extension": ".py",
   "mimetype": "text/x-python",
   "name": "python",
   "nbconvert_exporter": "python",
   "pygments_lexer": "ipython3",
   "version": "3.7.6"
  }
 },
 "nbformat": 4,
 "nbformat_minor": 4
}
