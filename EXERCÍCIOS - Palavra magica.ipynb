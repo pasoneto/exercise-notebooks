{
 "cells": [
  {
   "cell_type": "code",
   "execution_count": 256,
   "metadata": {},
   "outputs": [],
   "source": [
    "#Problema das palavras mágicas\n",
    "import string as st\n",
    "import random"
   ]
  },
  {
   "cell_type": "code",
   "execution_count": 263,
   "metadata": {},
   "outputs": [
    {
     "data": {
      "text/plain": [
       "'A palavra é mágica'"
      ]
     },
     "execution_count": 263,
     "metadata": {},
     "output_type": "execute_result"
    }
   ],
   "source": [
    "alfabeto = st.ascii_lowercase\n",
    "desordem = 'za'\n",
    "\n",
    "#Encontrando a 'menor' letra do string\n",
    "def ordenando(caso):\n",
    "    menor = 'z'\n",
    "    for i in caso:\n",
    "        if i <= menor:\n",
    "            menor = i\n",
    "    return menor\n",
    "\n",
    "#Organizando a entrada em ordem alfabética\n",
    "def organizando(caso):\n",
    "    em_ordem = ''\n",
    "    caso = caso\n",
    "    for k in caso:\n",
    "        oi = ordenando(caso)\n",
    "        em_ordem += oi\n",
    "        caso = caso.replace(oi, '', 1)\n",
    "    return em_ordem\n",
    "#Captando as primeiras e as ultimas letras do string\n",
    "\n",
    "def final(caso):\n",
    "    caso = caso\n",
    "    if int(len(caso)/2) != len(caso)/2:\n",
    "        return 'A palavra não é mágica'\n",
    "    inicio = organizando(caso[:int(len(caso)/2)])\n",
    "    fim = caso[int(len(caso)/2):]\n",
    "    #print('inicio', inicio)\n",
    "    #print('fim', fim)\n",
    "    if inicio == fim:\n",
    "        return 'A palavra é mágica'\n",
    "    else:\n",
    "        return 'A palavra NÃO é mágica'\n",
    "final('hpmobgzjtesirwdcunkqlvyxfaabcdefghijklmnopqrstuvwxyz')\n",
    "\n"
   ]
  },
  {
   "cell_type": "code",
   "execution_count": 262,
   "metadata": {},
   "outputs": [],
   "source": [
    "oi = random.sample('abcdefghijklmnopqrstuvwxyz', 26)\n",
    "oi = 'hpmobgzjtesirwdcunkqlvyxfa'"
   ]
  }
 ],
 "metadata": {
  "kernelspec": {
   "display_name": "Python 3",
   "language": "python",
   "name": "python3"
  },
  "language_info": {
   "codemirror_mode": {
    "name": "ipython",
    "version": 3
   },
   "file_extension": ".py",
   "mimetype": "text/x-python",
   "name": "python",
   "nbconvert_exporter": "python",
   "pygments_lexer": "ipython3",
   "version": "3.7.3"
  }
 },
 "nbformat": 4,
 "nbformat_minor": 2
}
