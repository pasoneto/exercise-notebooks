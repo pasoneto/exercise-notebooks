{
 "cells": [
  {
   "cell_type": "code",
   "execution_count": 2,
   "metadata": {},
   "outputs": [],
   "source": [
    "import string\n",
    "import numpy as np\n",
    "#Função contagem\n",
    "def contagem(caso, alfabeto):\n",
    "    alfabeto = alfabeto\n",
    "    contagem = []\n",
    "    for k in alfabeto:\n",
    "        for i in caso:\n",
    "            oi = i.count(k)\n",
    "            contagem.append(oi)\n",
    "    return contagem"
   ]
  },
  {
   "cell_type": "code",
   "execution_count": 6,
   "metadata": {},
   "outputs": [],
   "source": [
    "#Função para somar os resultados de ambos os casos\n",
    "def somando(caso):\n",
    "    fim = []\n",
    "    cont_maiusculo = contagem([caso], string.ascii_lowercase) \n",
    "    #print(cont_maiusculo)\n",
    "    cont_minusculo = contagem([caso], string.ascii_uppercase)\n",
    "    #print(cont_minusculo)\n",
    "    for i in range(len(cont_maiusculo)):\n",
    "        fim.append(cont_maiusculo[i] + cont_minusculo[i])\n",
    "    return fim\n",
    "\n",
    "#Chamando a função\n",
    "#somando('aaAAIUHAIEUHiushiuhsiuhISURHISUHIUiusrhiurshiuHIURHSIURHIhisurhiuh')"
   ]
  },
  {
   "cell_type": "code",
   "execution_count": 54,
   "metadata": {},
   "outputs": [
    {
     "name": "stdout",
     "output_type": "stream",
     "text": [
      "9.75609756097561\n",
      "[0, 3]\n"
     ]
    },
    {
     "data": {
      "text/plain": [
       "(['a', 'd'], 9.75609756097561)"
      ]
     },
     "execution_count": 54,
     "metadata": {},
     "output_type": "execute_result"
    }
   ],
   "source": [
    "#Calculando porcentagens. Função retorna todas as porcentagens de cada letra.\n",
    "def fcont(caso):\n",
    "    result = somando(caso)\n",
    "    porcentagens = []\n",
    "    for i in result:\n",
    "        porcentagens.append(i/sum(result)*100)\n",
    "    return(porcentagens)\n",
    "\n",
    "def ondeta(caso):\n",
    "    oi = fcont(caso)\n",
    "    alfabeto  = string.ascii_lowercase\n",
    "    maior = 0\n",
    "    for i in oi:\n",
    "        if i > maior:\n",
    "            maior = i\n",
    "    print(maior)\n",
    "    indices = [k for k, n in enumerate(oi) if n == maior]\n",
    "    print(indices)\n",
    "    letras = []\n",
    "    for j in indices:\n",
    "        letras.append(alfabeto[j])\n",
    "    return (letras, max(oi))\n",
    "\n",
    "\n",
    "ondeta('asl;dzc]ewa;d]sd.vcxhkjasdfa]]bkjolnnopuibuiopjl;')"
   ]
  },
  {
   "cell_type": "code",
   "execution_count": 62,
   "metadata": {},
   "outputs": [
    {
     "data": {
      "text/plain": [
       "[1, 4, 5, 2, 5, 6]"
      ]
     },
     "execution_count": 62,
     "metadata": {},
     "output_type": "execute_result"
    }
   ],
   "source": [
    "penis = 1, 4, 5, 2, 5, 6\n",
    "lista = []\n",
    "for i in penis:\n",
    "    lista.append(i)\n",
    "lista\n",
    "    "
   ]
  },
  {
   "cell_type": "code",
   "execution_count": null,
   "metadata": {},
   "outputs": [],
   "source": []
  },
  {
   "cell_type": "code",
   "execution_count": null,
   "metadata": {},
   "outputs": [],
   "source": []
  },
  {
   "cell_type": "code",
   "execution_count": null,
   "metadata": {},
   "outputs": [],
   "source": []
  }
 ],
 "metadata": {
  "kernelspec": {
   "display_name": "Python 3",
   "language": "python",
   "name": "python3"
  },
  "language_info": {
   "codemirror_mode": {
    "name": "ipython",
    "version": 3
   },
   "file_extension": ".py",
   "mimetype": "text/x-python",
   "name": "python",
   "nbconvert_exporter": "python",
   "pygments_lexer": "ipython3",
   "version": "3.7.3"
  }
 },
 "nbformat": 4,
 "nbformat_minor": 2
}
