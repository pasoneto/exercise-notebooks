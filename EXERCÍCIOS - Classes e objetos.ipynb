{
 "cells": [
  {
   "cell_type": "code",
   "execution_count": 10,
   "metadata": {},
   "outputs": [],
   "source": [
    "class Tamago_body:\n",
    "    def __init__(self, givenName, givenPeso, givenAltura, givenIdade, givenGenero):\n",
    "        \n",
    "        self.nome = givenName\n",
    "        self.peso = givenPeso\n",
    "        self.altura = givenAltura\n",
    "        self.idade = givenIdade\n",
    "        self.genero = givenGenero\n",
    "        self.gordura = self.peso*30/100 #Caso a pessoa tenha 30pcento de bf\n",
    "        self.musculo = self.peso - self.gordura\n",
    "        self.caloria_base = (10*givenPeso+6.25*(givenAltura*100)*givenIdade*5)-161/10\n",
    "        #Esses valores são mudados pelo servidor.\n",
    "        self.consumo_calorico = 0\n",
    "        self.gasto_calorico = 0\n",
    "        self.malhacao = 0\n",
    "        \n",
    "    def muda_peso_e_gordura(self):\n",
    "        entrada = self.gasto_calorico\n",
    "        saida = self.consumo_calorico\n",
    "        incremento = entrada - saida\n",
    "        balanco = self.caloria_base - incremento\n",
    "        #this returns how many grams of fat the person gained, considering that\n",
    "        #3500kcal surplus = 0.45g of fat\n",
    "        self.peso = self.peso + 0.45*balanco/3500\n",
    "        self.gordura = self.gordura + 0.45*balanco/3500\n",
    "    \n",
    "    def muda_peso_e_musculo(self):\n",
    "        if self.malhacao != 0:\n",
    "            return \"BIRLLLLL\"\n",
    "        else:\n",
    "            return \"QUE NUM VAI DÁ, RAPÁ, NUM VAI DÁ ESSA PORRA.....\"\n",
    "        "
   ]
  },
  {
   "cell_type": "code",
   "execution_count": 11,
   "metadata": {},
   "outputs": [],
   "source": [
    "#Servidor envia ID do participante, peso, altura, idade, genero e bf. Objeto do cliente é criado\n",
    "#Para função de receber comida, o servidor vai enviar cliente_id.muda_peso(valor_da_comida)\n",
    "\n",
    "\n",
    "#X vezes por dia o servidor vai mandar um comando pedrinho.gasto_calorico = X, e pedrinho.consumo_calorico = Y\n",
    "#Assim eu posso calcular o NET calory.\n",
    "\n",
    "#Teste\n",
    "gabriel = Tamago_body(\"Gabriel\", 70.9, 1.75, 22, 'homem')\n",
    "pedrinho = Tamago_body(\"pedrinho\", 100, 1.78, 25, 'homem')\n",
    "vizinho = Tamago_body(\"Vizinho\", 120, 1.85, 25, 'homem')\n",
    "\n",
    "lia = Tamago_body(\"Lia\", 50.9, 1.55, 26, 'mulher')"
   ]
  },
  {
   "cell_type": "code",
   "execution_count": 12,
   "metadata": {},
   "outputs": [
    {
     "data": {
      "text/plain": [
       "126430.4"
      ]
     },
     "execution_count": 12,
     "metadata": {},
     "output_type": "execute_result"
    }
   ],
   "source": [
    "lia.caloria_base"
   ]
  },
  {
   "cell_type": "code",
   "execution_count": 111,
   "metadata": {},
   "outputs": [],
   "source": [
    "#Teste com surplus calorico de 3500. Ganho de gordura e de peso.\n",
    "pedrinho.gasto_calorico = pedrinho.caloria_base\n",
    "pedrinho.consumo_calorico = 3500\n",
    "pedrinho.muda_peso_e_gordura()"
   ]
  },
  {
   "cell_type": "code",
   "execution_count": 13,
   "metadata": {},
   "outputs": [
    {
     "data": {
      "text/plain": [
       "'BIRLLLLL'"
      ]
     },
     "execution_count": 13,
     "metadata": {},
     "output_type": "execute_result"
    }
   ],
   "source": [
    "pedrinho.malhacao = 1\n",
    "pedrinho.muda_peso_e_musculo()"
   ]
  },
  {
   "cell_type": "code",
   "execution_count": null,
   "metadata": {},
   "outputs": [],
   "source": []
  }
 ],
 "metadata": {
  "kernelspec": {
   "display_name": "Python 3",
   "language": "python",
   "name": "python3"
  },
  "language_info": {
   "codemirror_mode": {
    "name": "ipython",
    "version": 3
   },
   "file_extension": ".py",
   "mimetype": "text/x-python",
   "name": "python",
   "nbconvert_exporter": "python",
   "pygments_lexer": "ipython3",
   "version": "3.7.6"
  }
 },
 "nbformat": 4,
 "nbformat_minor": 2
}
