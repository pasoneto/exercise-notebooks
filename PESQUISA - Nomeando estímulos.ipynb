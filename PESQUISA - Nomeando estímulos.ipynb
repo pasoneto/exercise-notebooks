{
 "cells": [
  {
   "cell_type": "code",
   "execution_count": 1,
   "metadata": {
    "scrolled": true
   },
   "outputs": [],
   "source": [
    "import random\n",
    "import string\n",
    "import pandas as pd\n",
    "import itertools\n",
    "import os\n",
    "random.seed(15022020)"
   ]
  },
  {
   "cell_type": "code",
   "execution_count": 2,
   "metadata": {},
   "outputs": [],
   "source": [
    "#Gerando o nome dos estímulos\n",
    "def estimulos_at(estrutura, tipo):\n",
    "    tonalidade = ['C', 'G', 'D', 'F', 'Bb']\n",
    "    lista_estimulos = []\n",
    "    for i in range(1,7):\n",
    "        for k in range(len(tonalidade)):\n",
    "            lista_estimulos.append(f\"{estrutura}_{tipo}_{i}_{tonalidade[k]}\")\n",
    "    return lista_estimulos\n",
    "\n",
    "#Gerando o nome dos estímulos\n",
    "def estimulos(estrutura, tipo):\n",
    "    tonalidade = ['C', 'G', 'D', 'F', 'Bb']\n",
    "    lista_estimulos = []\n",
    "    for i in range(1,7):\n",
    "        for k in range(len(tonalidade)):\n",
    "            lista_estimulos.append(f\"{tipo}_{i}_{tonalidade[k]}\")\n",
    "    return lista_estimulos"
   ]
  },
  {
   "cell_type": "code",
   "execution_count": 3,
   "metadata": {},
   "outputs": [],
   "source": [
    "#Gerando os estimulos completos. Standard 5 vezes mais do que deviant\n",
    "atonal_standard = estimulos_at('at', 'standard')*5\n",
    "atonal_deviant = estimulos_at('at', 'deviant')\n",
    "\n",
    "\n",
    "tonal_standard = estimulos('tonal', 'standard')*5\n",
    "tonal_deviant = estimulos('tonal', 'deviant')\n",
    "\n",
    "\n",
    "#Randomizando as listas.\n",
    "for i in range(1000):\n",
    "    random.shuffle(atonal_standard)\n",
    "for i in range(1000):\n",
    "    random.shuffle(atonal_deviant)\n",
    "for i in range(1000):\n",
    "    random.shuffle(tonal_standard)\n",
    "for i in range(1000):\n",
    "    random.shuffle(tonal_deviant)"
   ]
  },
  {
   "cell_type": "code",
   "execution_count": 4,
   "metadata": {},
   "outputs": [],
   "source": [
    "#sample cases\n",
    "def samp(lista, maximo):\n",
    "    if maximo != \"deviant\":\n",
    "        maximo = round(len(lista)/10) or 1\n",
    "    else: maximo = 1\n",
    "    #if the list contains only one case, we get this case\n",
    "    if len(lista) == 1:\n",
    "        return random.sample(lista, 1)\n",
    "    #if the list contains nothing, we get nothing\n",
    "    if len(lista) == 0:\n",
    "        return None\n",
    "    else:\n",
    "    #If it doesnt contain 1 or 0, we get a random of random size from the list\n",
    "        return random.sample(lista, random.randint(1, maximo))\n",
    "\n",
    "#delete cases\n",
    "def del_smp(smp, lista):\n",
    "    #Here I ask it to return the list in case it is empty\n",
    "    if len(lista) == 0:\n",
    "        return lista\n",
    "    #otherwise, I remove items which have already been sampled \n",
    "    else:\n",
    "        for i in smp:\n",
    "            lista.remove(i)\n",
    "    return lista\n",
    "\n",
    "#Function receives array and groups it into smaller arrays of random sizes, ranging from 1 to its length.\n",
    "def junt(lista, maximo):\n",
    "    final = []\n",
    "    final_final = []\n",
    "    for i in range(1000):\n",
    "        smp = samp(lista, maximo)\n",
    "        final.append(smp)\n",
    "        lista = del_smp(smp, lista)\n",
    "    for k in final:\n",
    "        if k != None:\n",
    "            final_final.append(k)\n",
    "    return final_final"
   ]
  },
  {
   "cell_type": "code",
   "execution_count": 5,
   "metadata": {},
   "outputs": [],
   "source": [
    "#Chamando algoritmo de nao repeticao\n",
    "standard = junt(atonal_standard, \"standard\")\n",
    "deviant = junt(atonal_deviant, \"deviant\")\n",
    "\n",
    "#tirando as listas de dentro das listas\n",
    "atonal = list(itertools.zip_longest(standard, deviant, fillvalue = []))\n",
    "atonal = list(itertools.chain.from_iterable(atonal)) \n",
    "atonal = list(itertools.chain.from_iterable(atonal)) \n",
    "\n",
    "standard = junt(tonal_standard, \"standard\")\n",
    "deviant = junt(tonal_deviant, \"deviant\")\n",
    "\n",
    "tonal = list(itertools.zip_longest(standard, deviant, fillvalue = []))\n",
    "tonal = list(itertools.chain.from_iterable(tonal)) \n",
    "tonal = list(itertools.chain.from_iterable(tonal))"
   ]
  },
  {
   "cell_type": "code",
   "execution_count": 6,
   "metadata": {},
   "outputs": [],
   "source": [
    "#Guardando todos os estimulos em 5 grupos de 36 estímulos\n",
    "def organizando(tipo):\n",
    "    final = []\n",
    "    for i in range(0, len(tipo), 36):\n",
    "        final.append(tipo[i:i+36])\n",
    "    return final\n",
    "\n",
    "#Organizando em 5 grupos\n",
    "tonal = organizando(tonal)\n",
    "atonal = organizando(atonal)"
   ]
  },
  {
   "cell_type": "code",
   "execution_count": 7,
   "metadata": {},
   "outputs": [],
   "source": [
    "#Adding column for correct answer in each data_frame\n",
    "corrAns_ton = []\n",
    "for i in range(len(tonal)):\n",
    "    for k in range(len(tonal[i])):\n",
    "        if \"deviant\" in tonal[i][k]:\n",
    "            corrAns_ton.append(\"2\")\n",
    "        else:\n",
    "            corrAns_ton.append('1')\n",
    "corrAns_ton = organizando(corrAns_ton)\n",
    "\n",
    "tonality_ton = []\n",
    "for i in range(len(tonal)):\n",
    "    for k in range(len(tonal[i])):\n",
    "        if \"at_\" in tonal[i][k]:\n",
    "            tonality_ton.append('atonal')\n",
    "        else:\n",
    "            tonality_ton.append('tonal')\n",
    "tonality_ton = organizando(tonality_ton)\n",
    "\n",
    "corrAns_aton = []\n",
    "for i in range(len(atonal)):\n",
    "    for k in range(len(atonal[i])):\n",
    "        if \"deviant\" in atonal[i][k]:\n",
    "            corrAns_aton.append(\"2\")\n",
    "        else:\n",
    "            corrAns_aton.append('1')\n",
    "corrAns_aton = organizando(corrAns_aton)\n",
    "\n",
    "tonality_aton = []\n",
    "for i in range(len(atonal)):\n",
    "    for k in range(len(atonal[i])):\n",
    "        if \"at_\" in atonal[i][k]:\n",
    "            tonality_aton.append('atonal')\n",
    "        else:\n",
    "            tonality_aton.append('tonal')\n",
    "tonality_aton = organizando(tonality_aton)"
   ]
  },
  {
   "cell_type": "code",
   "execution_count": 8,
   "metadata": {},
   "outputs": [],
   "source": [
    "#renaming stimuli to find path\n",
    "for i in range(len(tonal)):\n",
    "    for k in range(len(tonal[i])):\n",
    "        tonal[i][k] = \"C:\\\\Users\\\\Lenovo\\\\Desktop\\\\world\\\\Ciência\\\\Projetos de pesquisa\\\\Oddball\\\\oddball\\\\exp3\\\\psychopy\\\\sound\\\\\" + tonal[i][k] + \".wav\"\n",
    "\n",
    "for i in range(len(atonal)):\n",
    "    for k in range(len(atonal[i])):\n",
    "        atonal[i][k] = \"C:\\\\Users\\\\Lenovo\\\\Desktop\\\\world\\\\Ciência\\\\Projetos de pesquisa\\\\Oddball\\\\oddball\\\\exp3\\\\psychopy\\\\sound\\\\\" + atonal[i][k] + \".wav\"\n"
   ]
  },
  {
   "cell_type": "code",
   "execution_count": 51,
   "metadata": {},
   "outputs": [
    {
     "data": {
      "text/plain": [
       "'tonal'"
      ]
     },
     "execution_count": 51,
     "metadata": {},
     "output_type": "execute_result"
    }
   ],
   "source": [
    "#Making pandas data frames for each one of the blocks (tonal_and_atonal)\n",
    "tonal_completo = []\n",
    "for i in range(len(tonal)):\n",
    "    tonal_completo.append(pd.DataFrame({'son' : tonal[i],\n",
    "                                        'corrAns': corrAns_ton[i],\n",
    "                                        'tonalidade': tonality_ton[i]\n",
    "                                        }))\n",
    "atonal_completo = []\n",
    "for i in range(len(atonal)):\n",
    "    atonal_completo.append(pd.DataFrame({'son' : atonal[i],\n",
    "                                        'corrAns': corrAns_aton[i],\n",
    "                                        'tonalidade': tonality_aton[i]\n",
    "                                        }))\n",
    "\n",
    "duas_condicoes = [tonal_completo, atonal_completo]"
   ]
  },
  {
   "cell_type": "code",
   "execution_count": 107,
   "metadata": {},
   "outputs": [],
   "source": [
    "random.shuffle(duas_condicoes)\n",
    "#Generating one excel file for each experimental block\n",
    "for i in range(len(duas_condicoes[0])):\n",
    "    if 'atonal' in duas_condicoes[0][0]['tonalidade'][0]:\n",
    "        nome = 'atonal'\n",
    "    else:\n",
    "        nome = 'tonal'\n",
    "    w = pd.ExcelWriter(f\"C:\\\\Users\\\\Lenovo\\\\Desktop\\\\world\\\\Ciência\\\\Projetos de pesquisa\\\\Oddball\\\\oddball\\\\exp3\\\\psychopy\\\\block_1_{i}.xlsx\")\n",
    "    df = duas_condicoes[0][i]\n",
    "    df.to_excel(w)\n",
    "    w.save()\n",
    "\n",
    "for i in range(len(duas_condicoes[1])):\n",
    "    if 'atonal' in duas_condicoes[1][0]['tonalidade'][0]:\n",
    "        nome = 'atonal'\n",
    "    else:\n",
    "        nome = 'tonal'\n",
    "    w = pd.ExcelWriter(f\"C:\\\\Users\\\\Lenovo\\\\Desktop\\\\world\\\\Ciência\\\\Projetos de pesquisa\\\\Oddball\\\\oddball\\\\exp3\\\\psychopy\\\\block_2_{i}.xlsx\")\n",
    "    df = duas_condicoes[1][i]\n",
    "    df.to_excel(w)\n",
    "    w.save()"
   ]
  },
  {
   "cell_type": "code",
   "execution_count": 105,
   "metadata": {},
   "outputs": [],
   "source": [
    "listas_para_deletar = []\n",
    "for filename in os.listdir(\"C:\\\\Users\\\\Lenovo\\\\Desktop\\\\world\\\\Ciência\\\\Projetos de pesquisa\\\\Oddball\\\\oddball\\\\exp3\\\\psychopy\"):\n",
    "    if filename.endswith('.xlsx'):\n",
    "        listas_para_deletar.append(filename)\n",
    "        \n",
    "for i in listas_para_deletar:\n",
    "    os.unlink(f\"C:\\\\Users\\\\Lenovo\\\\Desktop\\\\world\\\\Ciência\\\\Projetos de pesquisa\\\\Oddball\\\\oddball\\\\exp3\\\\psychopy\\\\{i}\")"
   ]
  },
  {
   "cell_type": "code",
   "execution_count": null,
   "metadata": {},
   "outputs": [],
   "source": [
    "#Testando o algoritmo de não repeticao\n",
    "\n",
    "#def sem_repeticao(lista):\n",
    "#    for i in range(1, len(lista)):\n",
    "#        if lista[i] == lista[i-1]:\n",
    "#            velho = lista[i]\n",
    "#            print('os numeros sao iguais. O velho é:', velho)\n",
    "#            for k in range(i, len(lista)):\n",
    "#                if lista[k] != velho:\n",
    "#                    novo = lista[k]\n",
    "#                    print('agora ele vai ser:', novo)\n",
    "#            lista[i] = novo\n",
    "#            lista[k] = velho\n",
    "#    return lista\n",
    "\n",
    "#sem_repeticao([1, 1, 1, 2, 2, 2, 6, 8, 4, 3, 2, 1])"
   ]
  },
  {
   "cell_type": "code",
   "execution_count": null,
   "metadata": {},
   "outputs": [],
   "source": []
  },
  {
   "cell_type": "code",
   "execution_count": null,
   "metadata": {},
   "outputs": [],
   "source": []
  },
  {
   "cell_type": "code",
   "execution_count": null,
   "metadata": {},
   "outputs": [],
   "source": []
  },
  {
   "cell_type": "code",
   "execution_count": null,
   "metadata": {},
   "outputs": [],
   "source": []
  },
  {
   "cell_type": "code",
   "execution_count": null,
   "metadata": {
    "scrolled": false
   },
   "outputs": [],
   "source": []
  },
  {
   "cell_type": "code",
   "execution_count": null,
   "metadata": {},
   "outputs": [],
   "source": []
  },
  {
   "cell_type": "code",
   "execution_count": null,
   "metadata": {
    "scrolled": true
   },
   "outputs": [],
   "source": []
  }
 ],
 "metadata": {
  "kernelspec": {
   "display_name": "Python 3",
   "language": "python",
   "name": "python3"
  },
  "language_info": {
   "codemirror_mode": {
    "name": "ipython",
    "version": 3
   },
   "file_extension": ".py",
   "mimetype": "text/x-python",
   "name": "python",
   "nbconvert_exporter": "python",
   "pygments_lexer": "ipython3",
   "version": "3.7.3"
  }
 },
 "nbformat": 4,
 "nbformat_minor": 2
}
