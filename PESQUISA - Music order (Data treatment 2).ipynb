{
 "cells": [
  {
   "cell_type": "code",
   "execution_count": 1,
   "metadata": {},
   "outputs": [],
   "source": [
    "import os\n",
    "import json\n",
    "import string as str\n",
    "import pandas as pd\n",
    "import numpy as np\n",
    "from itertools import product\n",
    "import time\n",
    "from pathlib import Path"
   ]
  },
  {
   "cell_type": "code",
   "execution_count": 2,
   "metadata": {},
   "outputs": [],
   "source": [
    "caminho = 'C:/Users/Lenovo/Desktop/world/Ciência/Projetos de pesquisa/Estudo Computacional/'\n",
    "file = '/raw.csv'\n",
    "g = pd.read_csv(caminho+file)"
   ]
  },
  {
   "cell_type": "code",
   "execution_count": 4,
   "metadata": {},
   "outputs": [],
   "source": [
    "g.drop(['Unnamed: 0'], axis=1, inplace = True)\n",
    "g.drop(['releasetype'], axis=1, inplace = True)\n",
    "g.drop(['tracktotal'], axis=1, inplace=True)\n",
    "#Convert ing float 64 to 32 to save space\n",
    "\n",
    "for i in g.columns:\n",
    "    if g[i].dtype == 'float64':\n",
    "        g[i] = pd.DataFrame(g[i], dtype = 'float32')\n",
    "for i in g.columns:\n",
    "    if g[i].dtype == 'int64':\n",
    "        g[i] = pd.DataFrame(g[i], dtype = 'float32')\n",
    "#Converting bpm, which wasnt float nor int\n",
    "g['bpm'] = pd.DataFrame(g['bpm'], dtype = 'float32')"
   ]
  },
  {
   "cell_type": "code",
   "execution_count": 18,
   "metadata": {},
   "outputs": [],
   "source": [
    "#Selecting albums with more than or equal 6 entries and less than or equal to 20\n",
    "contagem_albums = pd.DataFrame(g['album'].value_counts())\n",
    "albums_interesse = list(contagem_albums[ (contagem_albums['album'] >=6) & (contagem_albums['album'] <= 20) ].index.values)\n",
    "filtro = g[g['album'].isin(albums_interesse)]\n",
    "\n",
    "#agora eu descubro todos aqueles que têm numero maior do que 20 como track number para exclupi-los depois\n",
    "nao_quero = list(filtro[filtro['tracknumber'] > 20]['album'].unique())\n",
    "\n",
    "#Aqui eu gero um banco de dados cujos albums vão de 6 a 20, e que possuem todos os numeros do maior até o menor \n",
    "filtro = filtro[~filtro['album'].isin(nao_quero)]"
   ]
  },
  {
   "cell_type": "code",
   "execution_count": 27,
   "metadata": {},
   "outputs": [],
   "source": [
    "#gravando\n",
    "filtro.to_csv(caminho+'final.csv')"
   ]
  }
 ],
 "metadata": {
  "kernelspec": {
   "display_name": "Python 3",
   "language": "python",
   "name": "python3"
  },
  "language_info": {
   "codemirror_mode": {
    "name": "ipython",
    "version": 3
   },
   "file_extension": ".py",
   "mimetype": "text/x-python",
   "name": "python",
   "nbconvert_exporter": "python",
   "pygments_lexer": "ipython3",
   "version": "3.6.9"
  }
 },
 "nbformat": 4,
 "nbformat_minor": 2
}
